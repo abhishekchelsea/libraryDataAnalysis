{
 "cells": [
  {
   "cell_type": "code",
   "execution_count": 6,
   "metadata": {},
   "outputs": [],
   "source": [
    "import pandas as pd"
   ]
  },
  {
   "cell_type": "code",
   "execution_count": 7,
   "metadata": {},
   "outputs": [],
   "source": [
    "lib_user = pd.read_csv(\n",
    "    \"/home/aca/Documents/S6_Lab/Projects/libraryDataAnalysis/cleaning/outputs/clean6_library_users.csv\")\n",
    "login = pd.read_csv(\n",
    "    \"/home/aca/Documents/S6_Lab/Projects/libraryDataAnalysis/cleaning/outputs/clean3_loginDetails.csv\")\n",
    "\n",
    "# login # id 38005 rows\n",
    "# lib_user # id 2924 rows"
   ]
  },
  {
   "cell_type": "code",
   "execution_count": 8,
   "metadata": {},
   "outputs": [],
   "source": [
    "# merge login details with lib user details on id\n",
    "login_libUser = pd.merge(login, lib_user, on=\"id\")\n",
    "\n",
    "# login_libUser"
   ]
  },
  {
   "cell_type": "code",
   "execution_count": 9,
   "metadata": {},
   "outputs": [],
   "source": [
    "# Write to csv\n",
    "login_libUser.to_csv(\"login_libUser.csv\", index=False)"
   ]
  }
 ],
 "metadata": {
  "kernelspec": {
   "display_name": "Python 3.10.4 64-bit",
   "language": "python",
   "name": "python3"
  },
  "language_info": {
   "codemirror_mode": {
    "name": "ipython",
    "version": 3
   },
   "file_extension": ".py",
   "mimetype": "text/x-python",
   "name": "python",
   "nbconvert_exporter": "python",
   "pygments_lexer": "ipython3",
   "version": "3.10.4"
  },
  "orig_nbformat": 4,
  "vscode": {
   "interpreter": {
    "hash": "916dbcbb3f70747c44a77c7bcd40155683ae19c65e1c03b4aa3499c5328201f1"
   }
  }
 },
 "nbformat": 4,
 "nbformat_minor": 2
}
