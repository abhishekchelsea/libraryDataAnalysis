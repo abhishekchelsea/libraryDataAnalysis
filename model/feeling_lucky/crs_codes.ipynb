{
 "cells": [
  {
   "cell_type": "code",
   "execution_count": 1,
   "metadata": {},
   "outputs": [],
   "source": [
    "import re\n",
    "import csv\n",
    "import pandas as pd\n",
    "import numpy as np\n",
    "import json"
   ]
  },
  {
   "cell_type": "code",
   "execution_count": 4,
   "metadata": {},
   "outputs": [
    {
     "data": {
      "text/plain": [
       "{'Any': {1: ['MAT101', 'PHT100', 'EST110', 'EST130', 'HUN101'],\n",
       "  2: ['CYT100', 'EST100', 'EST120', 'MAT102', 'HUN102', 'EST102']},\n",
       " 'IT': {3: ['HUT200', 'MCN201', 'ITT201', 'ITT203', 'ITT205', 'MAT203'],\n",
       "  4: ['EST200', 'MCN202', 'ITT202', 'ITT204', 'ITT206', 'MAT208'],\n",
       "  5: ['MCN301', 'ITT301', 'ITT303', 'ITT305', 'ITT307', 'ITT309'],\n",
       "  6: ['HUT300', 'ITT302', 'ITT304', 'ITT306'],\n",
       "  7: ['ITT401', 'MCN401'],\n",
       "  8: ['ITT402']},\n",
       " 'CS': {3: ['MAT203',\n",
       "   'CST201',\n",
       "   'CST203',\n",
       "   'CST205',\n",
       "   'EST200',\n",
       "   'HUT200',\n",
       "   'MCN201'],\n",
       "  4: ['MAT206', 'CST202', 'CST204', 'CST206', 'MCN202'],\n",
       "  5: ['CST301', 'CST303', 'CST305', 'CST307', 'CST309', 'MCN301'],\n",
       "  6: ['CST302', 'CST304', 'CST306', 'HUT300'],\n",
       "  7: ['CST401', 'MCN401'],\n",
       "  8: ['CST402']},\n",
       " 'ME': {3: ['MAT201',\n",
       "   'MET201',\n",
       "   'MET203',\n",
       "   'MET205',\n",
       "   'EST200',\n",
       "   'MCN201',\n",
       "   'MEL201'],\n",
       "  4: ['MAT202', 'MET202', 'MET204', 'MET206', 'HUT200', 'MCN202'],\n",
       "  5: ['MET301', 'MET303', 'MET305', 'MET307', 'HUT300', 'MCN301'],\n",
       "  6: ['MET302', 'MET304', 'MET306', 'HUT310', 'MET308'],\n",
       "  7: ['MET401', 'MCN401'],\n",
       "  8: ['MET402', 'MET404']},\n",
       " 'EC': {3: ['MAT201', 'ECT201', 'ECT203', 'ECT205', 'EST200', 'MCN201'],\n",
       "  4: ['MAT204', 'ECT202', 'ECT204', 'ECT206', 'HUT200', 'MCN202'],\n",
       "  5: ['ECT301', 'ECT303', 'ECT305', 'ECT307', 'HUT300', 'MCN301'],\n",
       "  6: ['ECT302', 'ECT304', 'ECT306', 'HUT310', 'ECT308'],\n",
       "  7: ['ECT401', 'MCN401'],\n",
       "  8: ['ECT402']},\n",
       " 'CE': {3: ['MAT201',\n",
       "   'CET201',\n",
       "   'CET203',\n",
       "   'CET205',\n",
       "   'EST200',\n",
       "   'HUT200',\n",
       "   'MCN201'],\n",
       "  4: ['MAT202', 'CET202', 'CET204', 'CET206', 'MCN202'],\n",
       "  5: ['CET301', 'CET303', 'CET305', 'CET307', 'CET309', 'MCN301'],\n",
       "  6: ['CET302', 'CET304', 'CET306', 'HUT300'],\n",
       "  7: ['CET401', 'MCN401'],\n",
       "  8: ['CET402']},\n",
       " 'EEE': {3: ['MAT201', 'EET201', 'EET203', 'EET205', 'EST200', 'MCN201'],\n",
       "  4: ['MAT204', 'EET202', 'EET204', 'EET206', 'HUT200', 'MCN202'],\n",
       "  5: ['EET301', 'EET303', 'EET305', 'EET307', 'HUT300', 'MCN301'],\n",
       "  6: ['EET302', 'EET304', 'EET306', 'HUT310', 'EET308'],\n",
       "  7: ['EET401', 'MCN401'],\n",
       "  8: ['EET402']}}"
      ]
     },
     "execution_count": 4,
     "metadata": {},
     "output_type": "execute_result"
    }
   ],
   "source": [
    "\n",
    "course_codes = csv.DictReader(open(\"/home/aca/Downloads/course_codes.csv\"))\n",
    "\n",
    "codes = {}\n",
    "\n",
    "# {\n",
    "#   'IT': \n",
    "#           {\n",
    "#               3: ['ITTXXX', 'ITTYX', ...],\n",
    "#           }\n",
    "#         \n",
    "# }\n",
    "\n",
    "s1 = \"MAT101  PHT100  EST110  EST130 HUN101\"\n",
    "s2 = \"CYT100 EST100 EST120 MAT102 HUN102 EST102\"\n",
    "\n",
    "codes['Any'] = {}\n",
    "codes['Any'][1] = re.split(r'\\s+', s1.strip())\n",
    "codes['Any'][2] = re.split(r'\\s+', s2.strip())\n",
    "\n",
    "for row in course_codes:\n",
    "    _dept = row['Department']\n",
    "    codes[f\"{_dept}\"] = {}\n",
    "    for i in range(3,9):\n",
    "        codes[f\"{_dept}\"][i] = re.split(r'\\s+', row[f\"Semester {i}\"].strip())\n",
    "\n",
    "\n",
    "\n",
    "with open(\"/home/aca/Documents/S6_Lab/Projects/libraryDataAnalysis/model/feeling_lucky/course_codes.json\", \"w\") as outfile:\n",
    "    json.dump(codes, outfile)\n",
    "\n",
    "codes\n"
   ]
  },
  {
   "cell_type": "code",
   "execution_count": null,
   "metadata": {},
   "outputs": [],
   "source": [
    "\n"
   ]
  }
 ],
 "metadata": {
  "kernelspec": {
   "display_name": "Python 3.10.4 64-bit",
   "language": "python",
   "name": "python3"
  },
  "language_info": {
   "codemirror_mode": {
    "name": "ipython",
    "version": 3
   },
   "file_extension": ".py",
   "mimetype": "text/x-python",
   "name": "python",
   "nbconvert_exporter": "python",
   "pygments_lexer": "ipython3",
   "version": "3.10.6"
  },
  "orig_nbformat": 4,
  "vscode": {
   "interpreter": {
    "hash": "916dbcbb3f70747c44a77c7bcd40155683ae19c65e1c03b4aa3499c5328201f1"
   }
  }
 },
 "nbformat": 4,
 "nbformat_minor": 2
}
