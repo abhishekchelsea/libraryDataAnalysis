{
  "cells": [
    {
      "cell_type": "code",
      "execution_count": 1,
      "metadata": {
        "id": "KkTuL5fWYiUA"
      },
      "outputs": [],
      "source": [
        "import json\n",
        "import os\n",
        "import re\n",
        "import PyPDF2"
      ]
    },
    {
      "cell_type": "code",
      "execution_count": 2,
      "metadata": {
        "id": "6Ie09sTwYiUD"
      },
      "outputs": [],
      "source": [
        "\n",
        "def convert_to_text(path, file):\n",
        "    pdffileobj = open(os.path.join(path, file), 'rb')\n",
        "    pdfreader = PyPDF2.PdfFileReader(pdffileobj)\n",
        "    n = pdfreader.numPages\n",
        "    text = ''\n",
        "    for i in range(0, n):\n",
        "        pageobj = pdfreader.getPage(i)\n",
        "        text += re.sub(\"[^A-Za-z0-9\\.\\s]\", \"\", pageobj.extractText())\n",
        "    text = text.replace('\\n', '')\n",
        "    # print(text)\n",
        "    return text\n"
      ]
    },
    {
      "cell_type": "code",
      "execution_count": 3,
      "metadata": {
        "id": "q8UrGacxYiUI"
      },
      "outputs": [],
      "source": [
        "course_codes = json.load(\n",
        "    open(\"/home/aca/Documents/S6_Lab/Projects/libraryDataAnalysis/model/feeling_lucky/course_codes.json\"))\n"
      ]
    },
    {
      "cell_type": "code",
      "execution_count": 4,
      "metadata": {
        "id": "3Z7wYsAoYiUL"
      },
      "outputs": [],
      "source": [
        "path_to_tb = \"/home/aca/Downloads/ProjectSyllabus\"\n",
        "sylb_files = os.listdir(path_to_tb)\n"
      ]
    },
    {
      "cell_type": "code",
      "execution_count": 5,
      "metadata": {
        "id": "qnDhgPpxYiUQ"
      },
      "outputs": [],
      "source": [
        "\n",
        "def extract_tb(text, code):\n",
        "    print(f\"working with {code}\")\n",
        "\n",
        "    f = open(\n",
        "        f'/home/aca/Documents/S6_Lab/Projects/libraryDataAnalysis/model/feeling_lucky/textbooks/{code}.txt', 'w')\n",
        "    \n",
        "    p = f'{code[:3]}\\s?{code[3:]}(.*?)Text Books(.*?)(Reference Books|References|Reference)'\n",
        "    _tb = re.search(p, text)\n",
        "    \n",
        "    res = ''\n",
        "\n",
        "    if _tb:    \n",
        "        _tb = _tb[2]\n",
        "        _tb = re.sub(r'[0-9]{4}', '', _tb)\n",
        "        _tbs = re.split(r'[0-9]\\.', _tb)  \n",
        "\n",
        "        for i in _tbs:\n",
        "            if re.match(r'(^\\s+$)|(^$)', i):\n",
        "                continue\n",
        "            _ = re.sub(r\"[\\.\\,\\\"\\'\\:\\(\\)]\", '', i)\n",
        "            _ = _.strip()\n",
        "            res += _ + '\\n'\n",
        "    else:\n",
        "        f.write(res)\n",
        "        f.close()\n",
        "        return False\n",
        "\n",
        "    f.write(res)\n",
        "    f.close()\n",
        "    return True\n"
      ]
    },
    {
      "cell_type": "code",
      "execution_count": null,
      "metadata": {
        "id": "44z-QhAwYiUT"
      },
      "outputs": [],
      "source": [
        "p = r'(ME|IT|CS|CE|EC|EEE)_S([0-9])S([0-9]).*'\n",
        "\n",
        "d = {\n",
        "    'ME': \"MECHANICAL ENGINEERING\",\n",
        "    \"IT\": \"INFORMATION TECHNOLOGY\",\n",
        "    \"CS\": \"COMPUTER SCIENCE AND ENGINEERING\",\n",
        "    \"CE\": \"CIVIL ENGINEERING\",\n",
        "    \"EC\": \"ELECTRONICS AND COMMUNICATION ENGINEERING\",\n",
        "    \"EEE\": \"ELECTRICAL AND ELECTRONICS ENGINEERING\"\n",
        "}\n",
        "\n",
        "finished = []\n",
        "\n",
        "error = []\n",
        "\n",
        "for i in sylb_files:\n",
        "    \n",
        "    _match = re.match(p, i)\n",
        "    \n",
        "    if _match:\n",
        "        dept = _match[1]\n",
        "        sem1 = _match[2]\n",
        "        sem2 = _match[3]\n",
        "\n",
        "\n",
        "        crs_codes = course_codes[f'{dept}'][f'{sem1}'] + \\\n",
        "            course_codes[f'{dept}'][f'{sem2}']\n",
        "        \n",
        "        # print(crs_codes)\n",
        "        text = convert_to_text(path_to_tb, i).replace(d[f'{dept}'], ' ')\n",
        "        \n",
        "        for j in crs_codes:\n",
        "            if j not in finished:\n",
        "                if not extract_tb(text, j):\n",
        "                    error.append(j)\n",
        "                finished.append(j)\n",
        "\n",
        "with open('/home/aca/Documents/S6_Lab/Projects/libraryDataAnalysis/model/feeling_lucky/error.txt', 'w') as _f:\n",
        "    for k in error:\n",
        "        _f.write(str(k)+\"\\n\")\n"
      ]
    },
    {
      "cell_type": "code",
      "execution_count": 7,
      "metadata": {},
      "outputs": [
        {
          "name": "stderr",
          "output_type": "stream",
          "text": [
            "Xref table not zero-indexed. ID numbers for objects will be corrected.\n"
          ]
        },
        {
          "name": "stdout",
          "output_type": "stream",
          "text": [
            "working with MAT101\n",
            "working with PHT100\n",
            "working with EST110\n",
            "working with EST130\n",
            "working with HUN101\n",
            "working with CYT100\n",
            "working with EST100\n",
            "working with EST120\n",
            "working with MAT102\n",
            "working with HUN102\n",
            "working with EST102\n",
            "['HUN102']\n"
          ]
        }
      ],
      "source": [
        "# For first two semesters only\n",
        "\n",
        "finished = []\n",
        "\n",
        "error = []\n",
        "\n",
        "crs_codes = course_codes['Any'][\"1\"] + course_codes['Any'][\"2\"]\n",
        "\n",
        "text = convert_to_text(path_to_tb, \"A_S1S2 - ABHISHEK KUMAR A IT2019.pdf\")\n",
        "\n",
        "for j in crs_codes:\n",
        "    if j not in finished:\n",
        "        if not extract_tb(text, j):\n",
        "            error.append(j)\n",
        "        finished.append(j)\n",
        "\n",
        "        \n",
        "        \n",
        "print(error)\n"
      ]
    },
    {
      "cell_type": "code",
      "execution_count": null,
      "metadata": {
        "id": "qVsR7hSCYiUa"
      },
      "outputs": [],
      "source": [
        "\n",
        "p = r'(ME|IT|CS|CE|EC|EEE)_S([0-9])S([0-9]).*'\n",
        "\n",
        "d = {\n",
        "    'ME': \"MECHANICAL ENGINEERING\",\n",
        "    \"IT\": \"INFORMATION TECHNOLOGY\",\n",
        "    \"CS\": \"COMPUTER SCIENCE AND ENGINEERING\",\n",
        "    \"CE\": \"CIVIL ENGINEERING\",\n",
        "    \"EC\": \"ELECTRONICS AND COMMUNICATION ENGINEERING\",\n",
        "    \"EEE\": \"ELECTRICAL AND ELECTRONICS ENGINEERING\"\n",
        "}\n",
        "\n",
        "finished = []\n",
        "\n",
        "error = []\n",
        "\n",
        "for i in sylb_files:\n",
        "\n",
        "    _match = re.match(p, i)\n",
        "\n",
        "    if _match:\n",
        "        dept = _match[1]\n",
        "        sem1 = _match[2]\n",
        "        sem2 = _match[3]\n",
        "\n",
        "        crs_codes = course_codes[f'{dept}'][f'{sem1}'] + \\\n",
        "            course_codes[f'{dept}'][f'{sem2}']\n",
        "\n",
        "        # print(crs_codes)\n",
        "        \n",
        "\n",
        "        for j in crs_codes:\n",
        "            if j not in finished:\n",
        "                if j == \"ECT201\":\n",
        "                    text = convert_to_text(\n",
        "                        path_to_tb, i).replace(d[f'{dept}'], ' ')\n",
        "                    if not extract_tb(text, j):\n",
        "                        print(\"ERROR\")\n",
        "                        \n"
      ]
    },
    {
      "cell_type": "code",
      "execution_count": 61,
      "metadata": {},
      "outputs": [
        {
          "name": "stdout",
          "output_type": "stream",
          "text": [
            "working with CST201\n",
            "ERR\n"
          ]
        }
      ],
      "source": [
        "# For \n",
        "\n",
        "p = r'(ME|IT|CS|CE|EC|EEE)_S([0-9])S([0-9]).*'\n",
        "\n",
        "d = {\n",
        "    'ME': \"MECHANICAL ENGINEERING\",\n",
        "    \"IT\": \"INFORMATION TECHNOLOGY\",\n",
        "    \"CS\": \"COMPUTER SCIENCE AND ENGINEERING\",\n",
        "    \"CE\": \"CIVIL ENGINEERING\",\n",
        "    \"EC\": \"ELECTRONICS AND COMMUNICATION ENGINEERING\",\n",
        "    \"EEE\": \"ELECTRICAL AND ELECTRONICS ENGINEERING\"\n",
        "}\n",
        "\n",
        "finished = []\n",
        "\n",
        "error = []\n",
        "\n",
        "for i in sylb_files:\n",
        "    \n",
        "    _match = re.match(p, i)\n",
        "    \n",
        "    if _match:\n",
        "        dept = _match[1]\n",
        "        sem1 = _match[2]\n",
        "        sem2 = _match[3]\n",
        "\n",
        "\n",
        "        crs_codes = course_codes[f'{dept}'][f'{sem1}'] + \\\n",
        "            course_codes[f'{dept}'][f'{sem2}']\n",
        "        \n",
        "        # print(crs_codes)\n",
        "        \n",
        "        \n",
        "        for j in crs_codes:\n",
        "            if j not in finished:\n",
        "                if j == \"CST201\":\n",
        "                    text = convert_to_text(\n",
        "                        path_to_tb, i).replace(d[f'{dept}'], ' ')\n",
        "                    if not extract_tb(text, j):\n",
        "                        print(\"ERR\")\n",
        "                        # error.append(j)\n",
        "                    # finished.append(j)\n",
        "\n",
        "# with open('/home/aca/Documents/S6_Lab/Projects/libraryDataAnalysis/model/feeling_lucky/error.txt', 'w') as _f:\n",
        "#     for k in error:\n",
        "#         _f.write(str(k)+\"\\n\")\n"
      ]
    },
    {
      "cell_type": "code",
      "execution_count": 67,
      "metadata": {},
      "outputs": [
        {
          "name": "stdout",
          "output_type": "stream",
          "text": [
            "<re.Match object; span=(16722, 34445), match='CST 201 DATA STRUCTURESCATEGORY LTP CREDITYEAR OF>\n",
            "M Morris Mano Digital Logic  Computer Design 4e Pearson Education\n",
            "\n",
            "M Morris Mano Digital Logic  Computer Design 4e Pearson Education\n",
            "Thomas L Floyd Digital Fundamentals 10e Pearson Education\n",
            "\n",
            "M Morris Mano Digital Logic  Computer Design 4e Pearson Education\n",
            "Thomas L Floyd Digital Fundamentals 10e Pearson Education\n",
            "M Morris Mano Computer System Architecture 3e Pearson Education\n",
            "\n"
          ]
        }
      ],
      "source": [
        "text\n",
        "code = \"CST201\"\n",
        "p = f'{code[:3]}\\s?{code[3:]}(.*?)Text Books(.*?)(Reference Books|References|Reference)'\n",
        "_tb = re.search(p, text)\n",
        "print(_tb)\n",
        "res = ''\n",
        "if _tb:\n",
        "        _tb = _tb[2]\n",
        "        _tb = re.sub(r'[0-9]{4}', '', _tb)\n",
        "        _tbs = re.split(r'[0-9]\\.', _tb)\n",
        "\n",
        "        for i in _tbs:\n",
        "            if re.match(r'(^\\s+$)|(^$)', i):\n",
        "                continue\n",
        "            _ = re.sub(r\"[\\.\\,\\\"\\'\\:\\(\\)]\", '', i)\n",
        "            _ = _.strip()\n",
        "            res += _ + '\\n'\n",
        "            print(res)\n",
        "else:\n",
        "    print(\"ERROR\")"
      ]
    }
  ],
  "metadata": {
    "colab": {
      "provenance": []
    },
    "kernelspec": {
      "display_name": "Python 3.10.4 64-bit",
      "language": "python",
      "name": "python3"
    },
    "language_info": {
      "codemirror_mode": {
        "name": "ipython",
        "version": 3
      },
      "file_extension": ".py",
      "mimetype": "text/x-python",
      "name": "python",
      "nbconvert_exporter": "python",
      "pygments_lexer": "ipython3",
      "version": "3.10.6"
    },
    "orig_nbformat": 4,
    "vscode": {
      "interpreter": {
        "hash": "916dbcbb3f70747c44a77c7bcd40155683ae19c65e1c03b4aa3499c5328201f1"
      }
    }
  },
  "nbformat": 4,
  "nbformat_minor": 0
}
