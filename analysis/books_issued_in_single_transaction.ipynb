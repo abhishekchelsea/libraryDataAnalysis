{
  "cells": [
    {
      "cell_type": "raw",
      "metadata": {},
      "source": [
        "---\n",
        "title: Number of books issued in single transaction\n",
        "show-code: False\n",
        "---"
      ]
    },
    {
      "cell_type": "markdown",
      "metadata": {
        "id": "fx2sjVTK1fPW"
      },
      "source": [
        "## Number of books issued in single transaction\n",
        "In our library, as per rules, maximum of two books can be issued to BTech students. The rule is different for MTech students and staff. If a BTech student want to take more books, s/he has to return already issued books. Students can take two books together or separately.  \n",
        "\n",
        "In this analysis, we are trying to understand if students are taking books together of one at a time. To do that, we first compute number of books issued to each student in each day, then we plot the result to understand the pattern \n",
        "\n",
        "- Input: `bkIssue_libUser_bkDetails.csv`\n"
      ]
    },
    {
      "cell_type": "code",
      "execution_count": 1,
      "metadata": {
        "id": "F-MLhhsqyBz6"
      },
      "outputs": [],
      "source": [
        "import pandas as pd\n",
        "import numpy as np"
      ]
    },
    {
      "cell_type": "code",
      "execution_count": 2,
      "metadata": {
        "id": "D6imFvyyybfp"
      },
      "outputs": [],
      "source": [
        "df = pd.read_csv(\"src/bkIssue_libUser_bkDetails.csv\")\n",
        "# df"
      ]
    },
    {
      "cell_type": "code",
      "execution_count": 3,
      "metadata": {
        "id": "wLyqMtTky7rP"
      },
      "outputs": [],
      "source": [
        "# drop unnecessary columns \n",
        "df.drop([\"sex\", \"sl_no\", \"checked_in(Y/N)\", \"book_issued(Y/N)\"], inplace=True, axis=1)"
      ]
    },
    {
      "cell_type": "code",
      "execution_count": 4,
      "metadata": {
        "colab": {
          "base_uri": "https://localhost:8080/"
        },
        "id": "v6oTw5ITyB0A",
        "outputId": "944ab3a0-5cdb-4e92-e34d-9038b259ba1b"
      },
      "outputs": [],
      "source": [
        "# Convert date format\n",
        "df['issue_date'] = pd.to_datetime(df['issue_date'], dayfirst=True)\n",
        "# df.shape\n",
        "# df"
      ]
    },
    {
      "cell_type": "code",
      "execution_count": 5,
      "metadata": {
        "id": "0n3uAa-TyB0D"
      },
      "outputs": [],
      "source": [
        "# Group by issue_date then group by id. Per day book issues to each user\n",
        "df1 = df.groupby(['issue_date', 'id'],as_index=False)['title'].count()"
      ]
    },
    {
      "cell_type": "code",
      "execution_count": 6,
      "metadata": {
        "id": "Dkj6BuwWyB0D"
      },
      "outputs": [],
      "source": [
        "x = df1['title'].unique().tolist()"
      ]
    },
    {
      "cell_type": "code",
      "execution_count": 7,
      "metadata": {
        "colab": {
          "base_uri": "https://localhost:8080/"
        },
        "id": "NIxkN1WBzkrq",
        "outputId": "4da80569-0feb-41c7-f58c-8ad1883b9eb2"
      },
      "outputs": [],
      "source": [
        "y = []\n",
        "for i in x:\n",
        "  y.append(df1[df1['title'] == i].shape[0])"
      ]
    },
    {
      "cell_type": "code",
      "execution_count": 8,
      "metadata": {
        "id": "ztSOqncJ0rIg"
      },
      "outputs": [],
      "source": [
        "# Create a dataframe for storing result\n",
        "res = pd.DataFrame()\n",
        "res[\"Books_issued_in_single_transaction\"] = x\n",
        "res[\"Frequency\"] = y"
      ]
    },
    {
      "cell_type": "code",
      "execution_count": 9,
      "metadata": {
        "colab": {
          "base_uri": "https://localhost:8080/",
          "height": 265
        },
        "id": "myYBPCuk0SbQ",
        "outputId": "4e7856d3-707a-4efe-d1c6-d53112c189b9"
      },
      "outputs": [
        {
          "data": {
            "image/png": "[encoded data removed]",
            "text/plain": [
              "<Figure size 432x288 with 1 Axes>"
            ]
          },
          "metadata": {
            "needs_background": "light"
          },
          "output_type": "display_data"
        }
      ],
      "source": [
        "import matplotlib.pyplot as plt\n",
        "fig = plt.figure()\n",
        "plt.bar(x,y)\n",
        "plt.show()"
      ]
    },
    {
      "cell_type": "code",
      "execution_count": 10,
      "metadata": {},
      "outputs": [
        {
          "data": {
            "image/png": "[encoded data removed]",
            "text/plain": [
              "<Figure size 720x576 with 1 Axes>"
            ]
          },
          "metadata": {},
          "output_type": "display_data"
        }
      ],
      "source": [
        "fig = plt.figure(figsize=(10,8))\n",
        "plt.pie(y, labels=x, autopct='%1.1f%%')\n",
        "plt.show()\n"
      ]
    },
    {
      "cell_type": "markdown",
      "metadata": {
        "id": "sMRQ3N7x37DU"
      },
      "source": [
        "Table"
      ]
    },
    {
      "cell_type": "code",
      "execution_count": 11,
      "metadata": {
        "colab": {
          "base_uri": "https://localhost:8080/",
          "height": 349
        },
        "id": "ROQAHiHy1DkO",
        "outputId": "bfbc48f7-c822-4bf0-c40c-7828337c91ab"
      },
      "outputs": [
        {
          "data": {
            "text/html": [
              "<div>\n",
              "<style scoped>\n",
              "    .dataframe tbody tr th:only-of-type {\n",
              "        vertical-align: middle;\n",
              "    }\n",
              "\n",
              "    .dataframe tbody tr th {\n",
              "        vertical-align: top;\n",
              "    }\n",
              "\n",
              "    .dataframe thead th {\n",
              "        text-align: right;\n",
              "    }\n",
              "</style>\n",
              "<table border=\"1\" class=\"dataframe\">\n",
              "  <thead>\n",
              "    <tr style=\"text-align: right;\">\n",
              "      <th></th>\n",
              "      <th>Books_issued_in_single_transaction</th>\n",
              "      <th>Frequency</th>\n",
              "      <th>Percentage</th>\n",
              "    </tr>\n",
              "  </thead>\n",
              "  <tbody>\n",
              "    <tr>\n",
              "      <th>0</th>\n",
              "      <td>1</td>\n",
              "      <td>20582</td>\n",
              "      <td>68.833818</td>\n",
              "    </tr>\n",
              "    <tr>\n",
              "      <th>1</th>\n",
              "      <td>2</td>\n",
              "      <td>7930</td>\n",
              "      <td>26.520852</td>\n",
              "    </tr>\n",
              "    <tr>\n",
              "      <th>2</th>\n",
              "      <td>3</td>\n",
              "      <td>1070</td>\n",
              "      <td>3.578476</td>\n",
              "    </tr>\n",
              "    <tr>\n",
              "      <th>3</th>\n",
              "      <td>5</td>\n",
              "      <td>96</td>\n",
              "      <td>0.321059</td>\n",
              "    </tr>\n",
              "    <tr>\n",
              "      <th>4</th>\n",
              "      <td>4</td>\n",
              "      <td>197</td>\n",
              "      <td>0.658841</td>\n",
              "    </tr>\n",
              "    <tr>\n",
              "      <th>5</th>\n",
              "      <td>6</td>\n",
              "      <td>19</td>\n",
              "      <td>0.063543</td>\n",
              "    </tr>\n",
              "    <tr>\n",
              "      <th>6</th>\n",
              "      <td>7</td>\n",
              "      <td>4</td>\n",
              "      <td>0.013377</td>\n",
              "    </tr>\n",
              "    <tr>\n",
              "      <th>7</th>\n",
              "      <td>8</td>\n",
              "      <td>1</td>\n",
              "      <td>0.003344</td>\n",
              "    </tr>\n",
              "    <tr>\n",
              "      <th>8</th>\n",
              "      <td>9</td>\n",
              "      <td>2</td>\n",
              "      <td>0.006689</td>\n",
              "    </tr>\n",
              "  </tbody>\n",
              "</table>\n",
              "</div>"
            ],
            "text/plain": [
              "   Books_issued_in_single_transaction  Frequency  Percentage\n",
              "0                                   1      20582   68.833818\n",
              "1                                   2       7930   26.520852\n",
              "2                                   3       1070    3.578476\n",
              "3                                   5         96    0.321059\n",
              "4                                   4        197    0.658841\n",
              "5                                   6         19    0.063543\n",
              "6                                   7          4    0.013377\n",
              "7                                   8          1    0.003344\n",
              "8                                   9          2    0.006689"
            ]
          },
          "execution_count": 11,
          "metadata": {},
          "output_type": "execute_result"
        }
      ],
      "source": [
        "# Displaying the result\n",
        "sum_freq = sum(res[\"Frequency\"]) # 29901\n",
        "\n",
        "# calculate percentage from each row and create a column\n",
        "res[\"Percentage\"] = res.apply(lambda row: (row['Frequency']/sum_freq) * 100, axis = 1) \n",
        "res"
      ]
    },
    {
      "cell_type": "markdown",
      "metadata": {
        "id": "2qm6Zeiw5PX8"
      },
      "source": [
        "From the above analysis it is found that,\n",
        "- Mostly (69%) it is just one book that is issued to user. That is, users generally prefer to take only one book at a time.  \n",
        "- Among 29901 transactions, in 7930 transactions 2 books were issued. This is more than 25% of total transactions.\n",
        "- This analysis include, undergraduate students, post graduate students and staff. Considering the large number of undergraduate students, percentage calculation could be less helpful. "
      ]
    }
  ],
  "metadata": {
    "colab": {
      "collapsed_sections": [],
      "name": "BooksIssuedInSingleTransaction.ipynb",
      "provenance": []
    },
    "kernelspec": {
      "display_name": "Python 3.10.4 64-bit",
      "language": "python",
      "name": "python3"
    },
    "language_info": {
      "codemirror_mode": {
        "name": "ipython",
        "version": 3
      },
      "file_extension": ".py",
      "mimetype": "text/x-python",
      "name": "python",
      "nbconvert_exporter": "python",
      "pygments_lexer": "ipython3",
      "version": "3.10.4"
    },
    "orig_nbformat": 4,
    "vscode": {
      "interpreter": {
        "hash": "916dbcbb3f70747c44a77c7bcd40155683ae19c65e1c03b4aa3499c5328201f1"
      }
    }
  },
  "nbformat": 4,
  "nbformat_minor": 0
}
