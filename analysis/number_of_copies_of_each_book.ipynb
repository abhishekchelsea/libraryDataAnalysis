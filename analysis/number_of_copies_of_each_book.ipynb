{
 "cells": [
  {
   "cell_type": "markdown",
   "metadata": {},
   "source": [
    "TEST "
   ]
  },
  {
   "cell_type": "code",
   "execution_count": 13,
   "metadata": {},
   "outputs": [],
   "source": [
    "import pandas as pd"
   ]
  },
  {
   "cell_type": "code",
   "execution_count": 14,
   "metadata": {},
   "outputs": [],
   "source": [
    "df = pd.read_csv(\n",
    "    \"src/clean1_bookDetails.csv\")\n"
   ]
  },
  {
   "cell_type": "code",
   "execution_count": 15,
   "metadata": {},
   "outputs": [
    {
     "data": {
      "text/html": [
       "<div>\n",
       "<style scoped>\n",
       "    .dataframe tbody tr th:only-of-type {\n",
       "        vertical-align: middle;\n",
       "    }\n",
       "\n",
       "    .dataframe tbody tr th {\n",
       "        vertical-align: top;\n",
       "    }\n",
       "\n",
       "    .dataframe thead th {\n",
       "        text-align: right;\n",
       "    }\n",
       "</style>\n",
       "<table border=\"1\" class=\"dataframe\">\n",
       "  <thead>\n",
       "    <tr style=\"text-align: right;\">\n",
       "      <th></th>\n",
       "      <th>title</th>\n",
       "      <th>author</th>\n",
       "      <th>number_of_books</th>\n",
       "    </tr>\n",
       "  </thead>\n",
       "  <tbody>\n",
       "    <tr>\n",
       "      <th>2000</th>\n",
       "      <td>HEAT AND MASS TRANSFER DATA BOOK</td>\n",
       "      <td>KOTHANDARAMAN, C P , SUBRAMANYAN,S</td>\n",
       "      <td>84</td>\n",
       "    </tr>\n",
       "    <tr>\n",
       "      <th>712</th>\n",
       "      <td>COMPUTER ORGANIZATION</td>\n",
       "      <td>HAMACHER,V CARL</td>\n",
       "      <td>70</td>\n",
       "    </tr>\n",
       "    <tr>\n",
       "      <th>1135</th>\n",
       "      <td>DISCRETE AND COMBINATORIAL MATHEMATICS</td>\n",
       "      <td>GRIMALDI,RALPH P</td>\n",
       "      <td>67</td>\n",
       "    </tr>\n",
       "    <tr>\n",
       "      <th>1071</th>\n",
       "      <td>DIGITAL LOGIC AND COMPUTER DESIGN</td>\n",
       "      <td>MANO,MORRIS M</td>\n",
       "      <td>64</td>\n",
       "    </tr>\n",
       "    <tr>\n",
       "      <th>3821</th>\n",
       "      <td>SOFTWARE ENGINEERING</td>\n",
       "      <td>SOMMERVILLE,IAN</td>\n",
       "      <td>63</td>\n",
       "    </tr>\n",
       "    <tr>\n",
       "      <th>2558</th>\n",
       "      <td>LINEAR PROGRAMMING</td>\n",
       "      <td>POTTI,L R</td>\n",
       "      <td>58</td>\n",
       "    </tr>\n",
       "    <tr>\n",
       "      <th>2819</th>\n",
       "      <td>MICROELECTRONIC CIRCUITS</td>\n",
       "      <td>SEDRA&amp;SMITH</td>\n",
       "      <td>58</td>\n",
       "    </tr>\n",
       "    <tr>\n",
       "      <th>2834</th>\n",
       "      <td>MICROPROCESSORS AND INTERFACING</td>\n",
       "      <td>HALL,DOUGLAS V</td>\n",
       "      <td>56</td>\n",
       "    </tr>\n",
       "    <tr>\n",
       "      <th>2160</th>\n",
       "      <td>INTEGRATED ELECTRONICS</td>\n",
       "      <td>MILLMAN,JACOB &amp; HALKIAS,CHRISTOS</td>\n",
       "      <td>55</td>\n",
       "    </tr>\n",
       "    <tr>\n",
       "      <th>595</th>\n",
       "      <td>COMMUNICATION SYSTEMS</td>\n",
       "      <td>HAYKIN,SIMON</td>\n",
       "      <td>52</td>\n",
       "    </tr>\n",
       "    <tr>\n",
       "      <th>1618</th>\n",
       "      <td>ENVIRONMENTAL SCIENCE AND ENGINEERING</td>\n",
       "      <td>JOSEPH,BENNY</td>\n",
       "      <td>52</td>\n",
       "    </tr>\n",
       "    <tr>\n",
       "      <th>2227</th>\n",
       "      <td>INTRODUCTION TO AUTOMATA THEORY,LANGUAGES AND ...</td>\n",
       "      <td>HOPCROFT,JOHN E</td>\n",
       "      <td>52</td>\n",
       "    </tr>\n",
       "    <tr>\n",
       "      <th>1780</th>\n",
       "      <td>FUNDAMENTALS OF DATABASE SYSTEMS</td>\n",
       "      <td>ELMASRI,RAMEZ &amp; NAVATHE,SHAMKANT B</td>\n",
       "      <td>51</td>\n",
       "    </tr>\n",
       "    <tr>\n",
       "      <th>1293</th>\n",
       "      <td>ELECTROMAGNETIC WAVES AND RADIATING SYSTEMS</td>\n",
       "      <td>JORDAN,EDWARD C &amp; BALMAIN,KEITH G</td>\n",
       "      <td>50</td>\n",
       "    </tr>\n",
       "    <tr>\n",
       "      <th>2377</th>\n",
       "      <td>INTRODUCTORY METHODS OF NUMERICAL ANALYSIS</td>\n",
       "      <td>SASTRY,S S</td>\n",
       "      <td>49</td>\n",
       "    </tr>\n",
       "  </tbody>\n",
       "</table>\n",
       "</div>"
      ],
      "text/plain": [
       "                                                  title  \\\n",
       "2000                   HEAT AND MASS TRANSFER DATA BOOK   \n",
       "712                               COMPUTER ORGANIZATION   \n",
       "1135             DISCRETE AND COMBINATORIAL MATHEMATICS   \n",
       "1071                  DIGITAL LOGIC AND COMPUTER DESIGN   \n",
       "3821                               SOFTWARE ENGINEERING   \n",
       "2558                                 LINEAR PROGRAMMING   \n",
       "2819                           MICROELECTRONIC CIRCUITS   \n",
       "2834                    MICROPROCESSORS AND INTERFACING   \n",
       "2160                             INTEGRATED ELECTRONICS   \n",
       "595                               COMMUNICATION SYSTEMS   \n",
       "1618              ENVIRONMENTAL SCIENCE AND ENGINEERING   \n",
       "2227  INTRODUCTION TO AUTOMATA THEORY,LANGUAGES AND ...   \n",
       "1780                   FUNDAMENTALS OF DATABASE SYSTEMS   \n",
       "1293        ELECTROMAGNETIC WAVES AND RADIATING SYSTEMS   \n",
       "2377         INTRODUCTORY METHODS OF NUMERICAL ANALYSIS   \n",
       "\n",
       "                                  author  number_of_books  \n",
       "2000  KOTHANDARAMAN, C P , SUBRAMANYAN,S               84  \n",
       "712                      HAMACHER,V CARL               70  \n",
       "1135                    GRIMALDI,RALPH P               67  \n",
       "1071                       MANO,MORRIS M               64  \n",
       "3821                     SOMMERVILLE,IAN               63  \n",
       "2558                           POTTI,L R               58  \n",
       "2819                         SEDRA&SMITH               58  \n",
       "2834                      HALL,DOUGLAS V               56  \n",
       "2160    MILLMAN,JACOB & HALKIAS,CHRISTOS               55  \n",
       "595                         HAYKIN,SIMON               52  \n",
       "1618                        JOSEPH,BENNY               52  \n",
       "2227                     HOPCROFT,JOHN E               52  \n",
       "1780  ELMASRI,RAMEZ & NAVATHE,SHAMKANT B               51  \n",
       "1293   JORDAN,EDWARD C & BALMAIN,KEITH G               50  \n",
       "2377                          SASTRY,S S               49  "
      ]
     },
     "execution_count": 15,
     "metadata": {},
     "output_type": "execute_result"
    }
   ],
   "source": [
    "df2 = df.groupby(['title', 'author', 'publisher'], as_index=False)['acc_no'].count().sort_values('acc_no', ascending=False).head(15)\n",
    "df2 =df2.rename({\"acc_no\":\"number_of_books\"}, axis=1)\n",
    "df3 = df2[['title', 'author', 'number_of_books']]\n",
    "df3"
   ]
  },
  {
   "cell_type": "code",
   "execution_count": 16,
   "metadata": {},
   "outputs": [],
   "source": [
    "# Analysis and plotting\n",
    "x, y = [], []\n",
    "\n",
    "for index, row in df2.iterrows():\n",
    "    x.append(f\"\"\"{row[\"title\"]}({row[\"author\"]})\"\"\")\n",
    "    y.append(f\"\"\"{row['number_of_books']}\"\"\")\n",
    "\n"
   ]
  },
  {
   "cell_type": "code",
   "execution_count": 17,
   "metadata": {},
   "outputs": [],
   "source": [
    "# function to add lables above bar plot\n",
    "def addlabels(x, y):\n",
    "\tfor i in range(len(x)):\n",
    "\t\tplt.text(i, y[i], y[i], ha='center')\n"
   ]
  },
  {
   "cell_type": "code",
   "execution_count": 21,
   "metadata": {},
   "outputs": [
    {
     "data": {
      "text/plain": [
       "<BarContainer object of 15 artists>"
      ]
     },
     "execution_count": 21,
     "metadata": {},
     "output_type": "execute_result"
    },
    {
     "data": {
      "image/png": "[encoded data removed]",
      "text/plain": [
       "<Figure size 720x360 with 1 Axes>"
      ]
     },
     "metadata": {
      "needs_background": "light"
     },
     "output_type": "display_data"
    }
   ],
   "source": [
    "import matplotlib.pyplot as plt\n",
    "fig = plt.figure(figsize=(10,5))\n",
    "plt.bar(x,y)\n",
    "# Adding count above bar\n",
    "# addlabels(y, x)\n",
    "# # vertically align x axis values\n",
    "# # plt.xticks(range(len(x)), x, rotation='vertical')\n",
    "# plt.title(f\"Number of copies of each book\")\n",
    "# plt.xlabel(\"Book\")\n",
    "# plt.ylabel(\"Number of books\")\n",
    "# plt.show()\n"
   ]
  }
 ],
 "metadata": {
  "kernelspec": {
   "display_name": "Python 3.10.4 64-bit",
   "language": "python",
   "name": "python3"
  },
  "language_info": {
   "codemirror_mode": {
    "name": "ipython",
    "version": 3
   },
   "file_extension": ".py",
   "mimetype": "text/x-python",
   "name": "python",
   "nbconvert_exporter": "python",
   "pygments_lexer": "ipython3",
   "version": "3.10.4"
  },
  "orig_nbformat": 4,
  "vscode": {
   "interpreter": {
    "hash": "916dbcbb3f70747c44a77c7bcd40155683ae19c65e1c03b4aa3499c5328201f1"
   }
  }
 },
 "nbformat": 4,
 "nbformat_minor": 2
}
