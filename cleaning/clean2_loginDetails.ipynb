{
 "cells": [
  {
   "cell_type": "markdown",
   "metadata": {},
   "source": [
    "## Notes\n",
    "- Input: `outputs/clean1_loginDetails.csv`\n",
    "- Output: `outputs/clean2_loginDetails.csv`"
   ]
  },
  {
   "cell_type": "code",
   "execution_count": 1,
   "metadata": {},
   "outputs": [],
   "source": [
    "import pandas as pd\n",
    "import re\n",
    "import numpy as np"
   ]
  },
  {
   "cell_type": "code",
   "execution_count": 2,
   "metadata": {},
   "outputs": [],
   "source": [
    "df = pd.read_csv(\"outputs/clean1_loginDetails.csv\")"
   ]
  },
  {
   "cell_type": "code",
   "execution_count": 3,
   "metadata": {},
   "outputs": [
    {
     "data": {
      "text/plain": [
       "Index(['adm_no', 'sex', 'dept', 'borrower_type', 'entry_date', 'entry_time'], dtype='object')"
      ]
     },
     "execution_count": 3,
     "metadata": {},
     "output_type": "execute_result"
    }
   ],
   "source": [
    "df.columns"
   ]
  },
  {
   "cell_type": "code",
   "execution_count": 4,
   "metadata": {},
   "outputs": [],
   "source": [
    "# Functions to get department name and year from dept field\n",
    "def getYear(s):\n",
    "    _ = re.search(r'[0-9]{4}', s)\n",
    "    if(_ is not None):\n",
    "        return _[0]\n",
    "    return np.nan\n",
    "\n",
    "def getDept(s):\n",
    "    _ = re.sub(r\"[0-9]{4}\", \"\", s)\n",
    "    _ = _.replace(\"-\", \" \").strip()\n",
    "    if (_.find(\"nan\") != -1):\n",
    "        return np.nan\n",
    "    return _"
   ]
  },
  {
   "cell_type": "code",
   "execution_count": 5,
   "metadata": {},
   "outputs": [],
   "source": [
    "# Create dictionary to replace dept field with department name and year \n",
    "\n",
    "# pd.set_option('display.max_rows', None) # to show all rows\n",
    "unq_dept = df[\"dept\"].drop_duplicates()\n",
    "replace_dept = {}\n",
    "for x in unq_dept:\n",
    "    replace_dept[x] = {\"year\": getYear(str(x)), \"branch\": getDept(str(x))}\n",
    "\n",
    "# print(replace_dept)"
   ]
  },
  {
   "cell_type": "code",
   "execution_count": 7,
   "metadata": {},
   "outputs": [],
   "source": [
    "# Create two cols department and batch from dept column\n",
    "\n",
    "depts = []\n",
    "years = []\n",
    "\n",
    "for i in df[\"dept\"]:\n",
    "    try:\n",
    "        depts.append(replace_dept[i][\"branch\"])\n",
    "        years.append(replace_dept[i][\"year\"])\n",
    "    except KeyError:\n",
    "        depts.append(None)\n",
    "        years.append(\"\")\n",
    "\n",
    "df[\"department\"] = depts\n",
    "df[\"batch\"] = years\n",
    "\n",
    "# verification\n",
    "# df.columns"
   ]
  },
  {
   "cell_type": "code",
   "execution_count": 9,
   "metadata": {},
   "outputs": [],
   "source": [
    "# drop old dept column\n",
    "df2 = df.drop('dept', axis=1)\n",
    "\n",
    "# verification\n",
    "# df2.columns"
   ]
  },
  {
   "cell_type": "code",
   "execution_count": 11,
   "metadata": {},
   "outputs": [],
   "source": [
    "# replacing CSE with CS for Computer Science department\n",
    "df2[\"department\"] = df2[\"department\"].replace(['CSE'], 'CS')"
   ]
  },
  {
   "cell_type": "code",
   "execution_count": 13,
   "metadata": {},
   "outputs": [
    {
     "name": "stdout",
     "output_type": "stream",
     "text": [
      "['ME', 'EC', 'IT', 'CS', 'EEE', 'ELECTRONICS AND COMMUNICATION', 'M.Tech  CSCL', 'ECONOMICS', 'MTech CSE CL', 'COMPUTER SCIENCE', 'GENERAL', 'M Tech  CSCL', 'Ph.D', 'ELECTRICAL', 'INFORMATION TECHNOLOGY', 'MECHANICAL', 'CENTRAL LIBRARY', 'CIVIL', 'MATHEMATICS', 'M.Tech ME ROB', 'CE', 'MTech ME ROB']\n"
     ]
    }
   ],
   "source": [
    "# finding unique department names\n",
    "_depts = []\n",
    "for i in df2[\"department\"].drop_duplicates():\n",
    "    if i is np.nan:\n",
    "        continue\n",
    "    _depts.append(str(i))\n",
    "print(_depts)"
   ]
  },
  {
   "cell_type": "code",
   "execution_count": 17,
   "metadata": {},
   "outputs": [],
   "source": [
    "# from the unique names select only required\n",
    "_depts = ['ME', 'EC', 'IT', 'CS', 'EEE','EE', 'CE']"
   ]
  },
  {
   "cell_type": "code",
   "execution_count": 15,
   "metadata": {},
   "outputs": [],
   "source": [
    "null_data = df[df[\"dept\"].isnull()]"
   ]
  },
  {
   "cell_type": "code",
   "execution_count": 16,
   "metadata": {},
   "outputs": [],
   "source": [
    "null_data.to_csv(\"outputs/clean2_loginDetails_missingDept.csv\", index=False)"
   ]
  }
 ],
 "metadata": {
  "kernelspec": {
   "display_name": "Python 3.10.4 64-bit",
   "language": "python",
   "name": "python3"
  },
  "language_info": {
   "codemirror_mode": {
    "name": "ipython",
    "version": 3
   },
   "file_extension": ".py",
   "mimetype": "text/x-python",
   "name": "python",
   "nbconvert_exporter": "python",
   "pygments_lexer": "ipython3",
   "version": "3.10.4"
  },
  "orig_nbformat": 4,
  "vscode": {
   "interpreter": {
    "hash": "916dbcbb3f70747c44a77c7bcd40155683ae19c65e1c03b4aa3499c5328201f1"
   }
  }
 },
 "nbformat": 4,
 "nbformat_minor": 2
}
