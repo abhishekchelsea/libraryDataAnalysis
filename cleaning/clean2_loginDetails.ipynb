{
 "cells": [
  {
   "cell_type": "markdown",
   "metadata": {},
   "source": [
    "## Notes\n",
    "- Input: `outputs/clean1_loginDetails.csv`\n",
    "- Output: `outputs/clean2_loginDetails.csv`"
   ]
  },
  {
   "cell_type": "code",
   "execution_count": 1,
   "metadata": {},
   "outputs": [],
   "source": [
    "import pandas as pd\n",
    "import re\n",
    "import numpy as np"
   ]
  },
  {
   "cell_type": "code",
   "execution_count": 2,
   "metadata": {},
   "outputs": [],
   "source": [
    "df = pd.read_csv(\"outputs/clean1_loginDetails.csv\")"
   ]
  },
  {
   "cell_type": "code",
   "execution_count": 3,
   "metadata": {},
   "outputs": [
    {
     "data": {
      "text/plain": [
       "Index(['adm_no', 'sex', 'dept', 'borrower_type', 'entry_date', 'entry_time'], dtype='object')"
      ]
     },
     "execution_count": 3,
     "metadata": {},
     "output_type": "execute_result"
    }
   ],
   "source": [
    "df.columns"
   ]
  },
  {
   "cell_type": "code",
   "execution_count": 4,
   "metadata": {},
   "outputs": [],
   "source": [
    "# Functions to get department name and year from dept field\n",
    "def getYear(s):\n",
    "    _ = re.search(r'[0-9]{4}', s)\n",
    "    if(_ is not None):\n",
    "        return _[0]\n",
    "    return np.nan\n",
    "\n",
    "def getDept(s):\n",
    "    _ = re.sub(r\"[0-9]{4}\", \"\", s)\n",
    "    _ = _.replace(\"-\", \" \").strip()\n",
    "    if (_.find(\"nan\") != -1):\n",
    "        return np.nan\n",
    "    return _"
   ]
  },
  {
   "cell_type": "code",
   "execution_count": 5,
   "metadata": {},
   "outputs": [],
   "source": [
    "# Create dictionary to replace dept field with department name and year \n",
    "\n",
    "# pd.set_option('display.max_rows', None) # to show all rows\n",
    "unq_dept = df[\"dept\"].drop_duplicates()\n",
    "replace_dept = {}\n",
    "for x in unq_dept:\n",
    "    replace_dept[x] = {\"year\": getYear(str(x)), \"branch\": getDept(str(x))}\n",
    "\n",
    "# print(replace_dept)"
   ]
  },
  {
   "cell_type": "code",
   "execution_count": 6,
   "metadata": {},
   "outputs": [],
   "source": [
    "# Create two cols department and batch from dept column\n",
    "\n",
    "depts = []\n",
    "years = []\n",
    "\n",
    "for i in df[\"dept\"]:\n",
    "    try:\n",
    "        depts.append(replace_dept[i][\"branch\"])\n",
    "        years.append(replace_dept[i][\"year\"])\n",
    "    except KeyError:\n",
    "        depts.append(None)\n",
    "        years.append(\"\")\n",
    "\n",
    "df[\"department\"] = depts\n",
    "df[\"batch\"] = years\n",
    "\n",
    "# verification\n",
    "# df.columns"
   ]
  },
  {
   "cell_type": "code",
   "execution_count": 7,
   "metadata": {},
   "outputs": [],
   "source": [
    "# drop old dept column\n",
    "df2 = df.drop('dept', axis=1)\n",
    "\n",
    "# verification\n",
    "# df2.columns"
   ]
  },
  {
   "cell_type": "code",
   "execution_count": 8,
   "metadata": {},
   "outputs": [],
   "source": [
    "# replacing CSE with CS for Computer Science department\n",
    "df2[\"department\"] = df2[\"department\"].replace(['CSE'], 'CS')\n",
    "\n",
    "# replacing EEE with EE for Electronics\n",
    "# df2[\"department\"] = df2[\"department\"].replace(['EEE'], 'EE')\n"
   ]
  },
  {
   "cell_type": "code",
   "execution_count": 9,
   "metadata": {},
   "outputs": [
    {
     "name": "stdout",
     "output_type": "stream",
     "text": [
      "['ME', 'EC', 'IT', 'CS', 'EEE', 'ELECTRONICS AND COMMUNICATION', 'M.Tech  CSCL', 'ECONOMICS', 'MTech CSE CL', 'COMPUTER SCIENCE', 'GENERAL', 'M Tech  CSCL', 'Ph.D', 'ELECTRICAL', 'INFORMATION TECHNOLOGY', 'MECHANICAL', 'CENTRAL LIBRARY', 'CIVIL', 'MATHEMATICS', 'M.Tech ME ROB', 'CE', 'MTech ME ROB']\n"
     ]
    }
   ],
   "source": [
    "# finding unique department names\n",
    "_depts = []\n",
    "for i in df2[\"department\"].drop_duplicates():\n",
    "    if i is np.nan:\n",
    "        continue\n",
    "    _depts.append(str(i))\n",
    "print(_depts)"
   ]
  },
  {
   "cell_type": "code",
   "execution_count": 10,
   "metadata": {},
   "outputs": [
    {
     "data": {
      "text/plain": [
       "Index(['adm_no', 'sex', 'borrower_type', 'entry_date', 'entry_time',\n",
       "       'department', 'batch'],\n",
       "      dtype='object')"
      ]
     },
     "execution_count": 10,
     "metadata": {},
     "output_type": "execute_result"
    }
   ],
   "source": [
    "df2.columns"
   ]
  },
  {
   "cell_type": "code",
   "execution_count": 11,
   "metadata": {},
   "outputs": [
    {
     "data": {
      "text/html": [
       "<div>\n",
       "<style scoped>\n",
       "    .dataframe tbody tr th:only-of-type {\n",
       "        vertical-align: middle;\n",
       "    }\n",
       "\n",
       "    .dataframe tbody tr th {\n",
       "        vertical-align: top;\n",
       "    }\n",
       "\n",
       "    .dataframe thead th {\n",
       "        text-align: right;\n",
       "    }\n",
       "</style>\n",
       "<table border=\"1\" class=\"dataframe\">\n",
       "  <thead>\n",
       "    <tr style=\"text-align: right;\">\n",
       "      <th></th>\n",
       "      <th>id</th>\n",
       "      <th>sex</th>\n",
       "      <th>type</th>\n",
       "      <th>department</th>\n",
       "      <th>batch</th>\n",
       "    </tr>\n",
       "  </thead>\n",
       "  <tbody>\n",
       "    <tr>\n",
       "      <th>0</th>\n",
       "      <td>14ME4339</td>\n",
       "      <td>M</td>\n",
       "      <td>Student</td>\n",
       "      <td>ME</td>\n",
       "      <td>2014</td>\n",
       "    </tr>\n",
       "    <tr>\n",
       "      <th>1</th>\n",
       "      <td>14ME4253</td>\n",
       "      <td>M</td>\n",
       "      <td>Student</td>\n",
       "      <td>NaN</td>\n",
       "      <td>NaN</td>\n",
       "    </tr>\n",
       "    <tr>\n",
       "      <th>2</th>\n",
       "      <td>14ME4457</td>\n",
       "      <td>M</td>\n",
       "      <td>Student</td>\n",
       "      <td>ME</td>\n",
       "      <td>2014</td>\n",
       "    </tr>\n",
       "    <tr>\n",
       "      <th>3</th>\n",
       "      <td>14ME4409</td>\n",
       "      <td>M</td>\n",
       "      <td>Student</td>\n",
       "      <td>ME</td>\n",
       "      <td>2014</td>\n",
       "    </tr>\n",
       "    <tr>\n",
       "      <th>4</th>\n",
       "      <td>13EC4046</td>\n",
       "      <td>M</td>\n",
       "      <td>Student</td>\n",
       "      <td>NaN</td>\n",
       "      <td>NaN</td>\n",
       "    </tr>\n",
       "    <tr>\n",
       "      <th>...</th>\n",
       "      <td>...</td>\n",
       "      <td>...</td>\n",
       "      <td>...</td>\n",
       "      <td>...</td>\n",
       "      <td>...</td>\n",
       "    </tr>\n",
       "    <tr>\n",
       "      <th>37915</th>\n",
       "      <td>21B162</td>\n",
       "      <td>M</td>\n",
       "      <td>Student</td>\n",
       "      <td>CE</td>\n",
       "      <td>2021</td>\n",
       "    </tr>\n",
       "    <tr>\n",
       "      <th>37934</th>\n",
       "      <td>21B541</td>\n",
       "      <td>M</td>\n",
       "      <td>Student</td>\n",
       "      <td>IT</td>\n",
       "      <td>2021</td>\n",
       "    </tr>\n",
       "    <tr>\n",
       "      <th>37958</th>\n",
       "      <td>20L594</td>\n",
       "      <td>M</td>\n",
       "      <td>Student</td>\n",
       "      <td>ME</td>\n",
       "      <td>2019</td>\n",
       "    </tr>\n",
       "    <tr>\n",
       "      <th>37987</th>\n",
       "      <td>21B449</td>\n",
       "      <td>M</td>\n",
       "      <td>Student</td>\n",
       "      <td>IT</td>\n",
       "      <td>2021</td>\n",
       "    </tr>\n",
       "    <tr>\n",
       "      <th>37988</th>\n",
       "      <td>21B659</td>\n",
       "      <td>M</td>\n",
       "      <td>Student</td>\n",
       "      <td>IT</td>\n",
       "      <td>2021</td>\n",
       "    </tr>\n",
       "  </tbody>\n",
       "</table>\n",
       "<p>2091 rows × 5 columns</p>\n",
       "</div>"
      ],
      "text/plain": [
       "             id sex     type department batch\n",
       "0      14ME4339   M  Student         ME  2014\n",
       "1      14ME4253   M  Student        NaN   NaN\n",
       "2      14ME4457   M  Student         ME  2014\n",
       "3      14ME4409   M  Student         ME  2014\n",
       "4      13EC4046   M  Student        NaN   NaN\n",
       "...         ...  ..      ...        ...   ...\n",
       "37915    21B162   M  Student         CE  2021\n",
       "37934    21B541   M  Student         IT  2021\n",
       "37958    20L594   M  Student         ME  2019\n",
       "37987    21B449   M  Student         IT  2021\n",
       "37988    21B659   M  Student         IT  2021\n",
       "\n",
       "[2091 rows x 5 columns]"
      ]
     },
     "execution_count": 11,
     "metadata": {},
     "output_type": "execute_result"
    }
   ],
   "source": [
    "# extract details of library users and save it in separate file\n",
    "library_users = df2[[\"adm_no\", \"sex\", \"borrower_type\", \"department\", \"batch\"]]\n",
    "library_users = library_users.rename(columns={\"borrower_type\": \"type\", \"adm_no\": \"id\"})\n",
    "library_users_unique = library_users.drop_duplicates(subset=['id'])\n",
    "library_users_unique.to_csv(\"outputs/clean2_library_users.csv\", index=False)\n",
    "library_users_unique"
   ]
  },
  {
   "cell_type": "code",
   "execution_count": 12,
   "metadata": {},
   "outputs": [],
   "source": [
    "# extract check in check out and save it in separate file\n",
    "check = df2[[\"adm_no\", \"entry_date\", \"entry_time\"]]\n",
    "check = check.rename(columns={\"adm_no\": \"id\"})\n",
    "check.to_csv(\"outputs/clean2_loginDetails.csv\", index=False)"
   ]
  },
  {
   "cell_type": "code",
   "execution_count": 13,
   "metadata": {},
   "outputs": [],
   "source": [
    "# from the unique names select only required\n",
    "_depts = ['ME', 'EC', 'IT', 'CS', 'EEE','EE', 'CE']"
   ]
  },
  {
   "cell_type": "code",
   "execution_count": 14,
   "metadata": {},
   "outputs": [],
   "source": [
    "null_data = df[df[\"dept\"].isnull()]"
   ]
  },
  {
   "cell_type": "code",
   "execution_count": 15,
   "metadata": {},
   "outputs": [],
   "source": [
    "null_data.to_csv(\"outputs/clean2_loginDetails_missingDept.csv\", index=False)"
   ]
  }
 ],
 "metadata": {
  "kernelspec": {
   "display_name": "Python 3.10.4 64-bit",
   "language": "python",
   "name": "python3"
  },
  "language_info": {
   "codemirror_mode": {
    "name": "ipython",
    "version": 3
   },
   "file_extension": ".py",
   "mimetype": "text/x-python",
   "name": "python",
   "nbconvert_exporter": "python",
   "pygments_lexer": "ipython3",
   "version": "3.10.4"
  },
  "orig_nbformat": 4,
  "vscode": {
   "interpreter": {
    "hash": "916dbcbb3f70747c44a77c7bcd40155683ae19c65e1c03b4aa3499c5328201f1"
   }
  }
 },
 "nbformat": 4,
 "nbformat_minor": 2
}
