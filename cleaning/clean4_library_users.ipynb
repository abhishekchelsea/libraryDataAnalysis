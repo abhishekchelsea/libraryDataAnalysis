{
 "cells": [
  {
   "cell_type": "markdown",
   "metadata": {},
   "source": []
  },
  {
   "cell_type": "code",
   "execution_count": 1,
   "metadata": {},
   "outputs": [],
   "source": [
    "import csv \n",
    "import re\n",
    "import pandas as pd\n",
    "import numpy as np"
   ]
  },
  {
   "cell_type": "code",
   "execution_count": 2,
   "metadata": {},
   "outputs": [
    {
     "data": {
      "text/plain": [
       "58"
      ]
     },
     "execution_count": 2,
     "metadata": {},
     "output_type": "execute_result"
    }
   ],
   "source": [
    "f1 = open(\"outputs/clean3_library_users.csv\")\n",
    "df1 = pd.read_csv(f1)\n",
    "f2 = open(\"outputs/clean3_libUsersBookIssue.csv\")\n",
    "df2 = pd.read_csv(f2)\n",
    "r2 = csv.DictReader(f2)\n",
    "f3 = open(\"outputs/clean4_libary_users.csv\", \"w\")\n",
    "w3 = csv.DictWriter(f3, fieldnames=[\n",
    "    \"id\", \n",
    "    \"sex\", \n",
    "    \"department\", \n",
    "    \"batch\",\n",
    "    \"checked_in(Y/N)\",\n",
    "    \"book_issued(Y/N)\"\n",
    "    ]\n",
    "    )\n",
    "w3.writeheader()"
   ]
  },
  {
   "cell_type": "code",
   "execution_count": 3,
   "metadata": {},
   "outputs": [
    {
     "name": "stdout",
     "output_type": "stream",
     "text": [
      "2091\n"
     ]
    }
   ],
   "source": [
    "users = []\n",
    "\n",
    "for idx, row in df1.iterrows():\n",
    "    r = {\n",
    "        \"id\": row[\"id\"], \n",
    "        \"sex\": row[\"sex\"], \n",
    "        \"department\": row[\"department\"], \n",
    "        \"batch\": row[\"batch\"],\n",
    "        \"checked_in(Y/N)\": \"Y\"\n",
    "        }\n",
    "\n",
    "    ref_f2 = df2[df2[\"id\"] == row[\"id\"]]\n",
    "\n",
    "    if not ref_f2.empty:\n",
    "        r[\"book_issued(Y/N)\"] = \"Y\"\n",
    "        if (row[\"department\"] == \"\" or row[\"department\"] == np.nan):\n",
    "            r[\"department\"] = ref_f2[\"id\"]\n",
    "        if (row[\"batch\"] == \"\" or row[\"batch\"] == np.nan):\n",
    "            r[\"batch\"] = ref_f2[\"batch\"]\n",
    "        df2 = df2.drop(df2.index[df2['id'] == row['id']])\n",
    "    else:\n",
    "        r[\"book_issued(Y/N)\"] = \"N\"\n",
    "        pass\n",
    "    \n",
    "    users.append(r)\n",
    "print(len(users))"
   ]
  },
  {
   "cell_type": "code",
   "execution_count": 4,
   "metadata": {},
   "outputs": [
    {
     "name": "stdout",
     "output_type": "stream",
     "text": [
      "2924\n"
     ]
    }
   ],
   "source": [
    "for idx, row in df2.iterrows():\n",
    "    r = {\n",
    "        \"id\": row[\"id\"],\n",
    "        \"department\": row[\"department\"],\n",
    "        \"batch\": row[\"batch\"],\n",
    "        \"checked_in(Y/N)\": \"N\",\n",
    "        \"book_issued(Y/N)\": \"Y\"\n",
    "    }\n",
    "    ref_f1 = df1[df1[\"id\"] == row[\"id\"]]\n",
    "    if not ref_f1.empty:\n",
    "        print(ref_f1[\"id\"])\n",
    "        raise Exception \n",
    "    users.append(r)\n",
    "print(len(users))\n",
    "    "
   ]
  },
  {
   "cell_type": "code",
   "execution_count": 5,
   "metadata": {},
   "outputs": [],
   "source": [
    "w3.writerows(users)\n",
    "f1.close()\n",
    "f2.close()\n",
    "f3.close()"
   ]
  },
  {
   "cell_type": "code",
   "execution_count": 6,
   "metadata": {},
   "outputs": [],
   "source": [
    "# r = df1[df1['id']== \"20L610\"]\n",
    "# print(r.empty)\n",
    "    "
   ]
  },
  {
   "cell_type": "code",
   "execution_count": 7,
   "metadata": {},
   "outputs": [],
   "source": [
    "# a = r[\"id\"].values[0]\n",
    "# print(a)"
   ]
  },
  {
   "cell_type": "code",
   "execution_count": 8,
   "metadata": {},
   "outputs": [],
   "source": [
    "# (df1.id == \"20L610\").any()"
   ]
  },
  {
   "cell_type": "code",
   "execution_count": 9,
   "metadata": {},
   "outputs": [],
   "source": [
    "# i = df1.index[df1['id'] == \"20L610\"]\n",
    "# # print(i[0])\n",
    "\n",
    "\n",
    "# df2 = df1['id'].str.contains(\"20L610\", na=True, case=False).drop_duplicates()\n",
    "\n",
    "# df2\n"
   ]
  }
 ],
 "metadata": {
  "kernelspec": {
   "display_name": "Python 3.10.4 64-bit",
   "language": "python",
   "name": "python3"
  },
  "language_info": {
   "codemirror_mode": {
    "name": "ipython",
    "version": 3
   },
   "file_extension": ".py",
   "mimetype": "text/x-python",
   "name": "python",
   "nbconvert_exporter": "python",
   "pygments_lexer": "ipython3",
   "version": "3.10.4"
  },
  "orig_nbformat": 4,
  "vscode": {
   "interpreter": {
    "hash": "916dbcbb3f70747c44a77c7bcd40155683ae19c65e1c03b4aa3499c5328201f1"
   }
  }
 },
 "nbformat": 4,
 "nbformat_minor": 2
}
