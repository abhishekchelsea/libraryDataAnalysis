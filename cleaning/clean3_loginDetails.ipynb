{
 "cells": [
  {
   "cell_type": "markdown",
   "metadata": {},
   "source": [
    "## Notes\n",
    "- Change time format to 24 hour clock\n",
    "- Input: clean2_loginDetails.csv\n",
    "- Output: clean3_loginDetails.csv"
   ]
  },
  {
   "cell_type": "code",
   "execution_count": 1,
   "metadata": {},
   "outputs": [],
   "source": [
    "import pandas as pd\n",
    "import numpy as np \n",
    "import csv\n",
    "import re\n"
   ]
  },
  {
   "cell_type": "code",
   "execution_count": 2,
   "metadata": {},
   "outputs": [
    {
     "name": "stdout",
     "output_type": "stream",
     "text": [
      "16:29:11\n"
     ]
    }
   ],
   "source": [
    "# Convert to 24 hour time\n",
    "# https://stackoverflow.com/a/47505615/12616968\n",
    "\n",
    "def to24(s):\n",
    "    if len(s) == 10:  # simple hack to deal with 4:29:11 PM\n",
    "        s = '0'+s\n",
    "    a = ''\n",
    "    if s[-2:] == \"AM\":\n",
    "        if s[:2] == '12':\n",
    "            a = str('00' + s[2:8])\n",
    "        else:\n",
    "            a = s[:-2]\n",
    "    elif s[-2:]== \"PM\":\n",
    "      if s[:2] == '12':\n",
    "            a = s[:-2]\n",
    "      else:\n",
    "            a = str(int(s[:2]) + 12) + s[2:8]\n",
    "    else:\n",
    "        return s\n",
    "    return a\n",
    "\n",
    "\n",
    "s = '4:29:11 PM'\n",
    "result = to24(s)\n",
    "print(result)\n"
   ]
  },
  {
   "cell_type": "code",
   "execution_count": 3,
   "metadata": {},
   "outputs": [
    {
     "data": {
      "text/plain": [
       "26"
      ]
     },
     "execution_count": 3,
     "metadata": {},
     "output_type": "execute_result"
    }
   ],
   "source": [
    "op = open(\"outputs/clean3_loginDetails.csv\", 'w')\n",
    "writer = csv.DictWriter(op, fieldnames=['id', 'entry_date', 'entry_time'])\n",
    "writer.writeheader()"
   ]
  },
  {
   "cell_type": "code",
   "execution_count": 4,
   "metadata": {},
   "outputs": [],
   "source": [
    "f = open(\"outputs/clean2_loginDetails.csv\")\n",
    "reader = csv.DictReader(f)\n",
    "for row in reader:\n",
    "    writer.writerow({\n",
    "        'id': row['id'],\n",
    "        'entry_time': to24(row['entry_time']),\n",
    "        'entry_date': row['entry_date']\n",
    "    })\n",
    "f.close()\n",
    "op.close()"
   ]
  }
 ],
 "metadata": {
  "kernelspec": {
   "display_name": "Python 3.10.4 64-bit",
   "language": "python",
   "name": "python3"
  },
  "language_info": {
   "codemirror_mode": {
    "name": "ipython",
    "version": 3
   },
   "file_extension": ".py",
   "mimetype": "text/x-python",
   "name": "python",
   "nbconvert_exporter": "python",
   "pygments_lexer": "ipython3",
   "version": "3.10.4"
  },
  "orig_nbformat": 4,
  "vscode": {
   "interpreter": {
    "hash": "916dbcbb3f70747c44a77c7bcd40155683ae19c65e1c03b4aa3499c5328201f1"
   }
  }
 },
 "nbformat": 4,
 "nbformat_minor": 2
}
