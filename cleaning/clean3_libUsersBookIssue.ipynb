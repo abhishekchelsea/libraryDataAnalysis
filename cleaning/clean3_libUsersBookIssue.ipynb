{
 "cells": [
  {
   "cell_type": "markdown",
   "metadata": {},
   "source": [
    "## Notes\n",
    "- Addking department details from admission number\n",
    "- input clean2_libUsersBookIssue.csv\n",
    "- output clean3_libUsersBookIssue.csv"
   ]
  },
  {
   "cell_type": "code",
   "execution_count": 4,
   "metadata": {},
   "outputs": [],
   "source": [
    "import csv"
   ]
  },
  {
   "cell_type": "code",
   "execution_count": 5,
   "metadata": {},
   "outputs": [
    {
     "data": {
      "text/plain": [
       "21"
      ]
     },
     "execution_count": 5,
     "metadata": {},
     "output_type": "execute_result"
    }
   ],
   "source": [
    "ip = open(\"outputs/clean2_libUsersBookIssue.csv\")\n",
    "op = open(\"outputs/clean3_libUsersBookIssue.csv\", 'w')\n",
    "reader = csv.DictReader(ip)\n",
    "writer = csv.DictWriter(\n",
    "    op, fieldnames=[\"id\", \"department\", \"batch\"])\n",
    "writer.writeheader()"
   ]
  },
  {
   "cell_type": "code",
   "execution_count": 6,
   "metadata": {},
   "outputs": [],
   "source": [
    "dept_names =  ['ME', 'EC', 'IT', 'CS', 'EEE','EE', 'CE']"
   ]
  },
  {
   "cell_type": "code",
   "execution_count": 7,
   "metadata": {},
   "outputs": [],
   "source": [
    "for row in reader:\n",
    "    if (row['department'] == ''):\n",
    "        for i in dept_names:\n",
    "            if(row['id'][2:4] == i):\n",
    "                row['department'] = i\n",
    "                break\n",
    "    writer.writerow(row)"
   ]
  },
  {
   "cell_type": "code",
   "execution_count": 8,
   "metadata": {},
   "outputs": [],
   "source": [
    "ip.close()\n",
    "op.close()"
   ]
  }
 ],
 "metadata": {
  "kernelspec": {
   "display_name": "Python 3.10.4 64-bit",
   "language": "python",
   "name": "python3"
  },
  "language_info": {
   "codemirror_mode": {
    "name": "ipython",
    "version": 3
   },
   "file_extension": ".py",
   "mimetype": "text/x-python",
   "name": "python",
   "nbconvert_exporter": "python",
   "pygments_lexer": "ipython3",
   "version": "3.10.4"
  },
  "orig_nbformat": 4,
  "vscode": {
   "interpreter": {
    "hash": "916dbcbb3f70747c44a77c7bcd40155683ae19c65e1c03b4aa3499c5328201f1"
   }
  }
 },
 "nbformat": 4,
 "nbformat_minor": 2
}
