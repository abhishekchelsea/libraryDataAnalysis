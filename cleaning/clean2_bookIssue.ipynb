{
 "cells": [
  {
   "cell_type": "markdown",
   "metadata": {},
   "source": [
    "## Notes\n",
    "- Get department year and name from department column\n",
    "- input: clean1_bookIssue.csv\n",
    "- output: clean2_bookIssue.csv"
   ]
  },
  {
   "cell_type": "code",
   "execution_count": 1,
   "metadata": {},
   "outputs": [],
   "source": [
    "import re\n",
    "import csv\n",
    "import pandas as pd\n",
    "import numpy as np\n"
   ]
  },
  {
   "cell_type": "code",
   "execution_count": 2,
   "metadata": {},
   "outputs": [],
   "source": [
    "df = pd.read_csv(\"outputs/clean1_bookIssue.csv\")\n"
   ]
  },
  {
   "cell_type": "code",
   "execution_count": 3,
   "metadata": {},
   "outputs": [
    {
     "data": {
      "text/plain": [
       "Index(['adm_no', 'acc_no', 'title', 'issue_date', 'department'], dtype='object')"
      ]
     },
     "execution_count": 3,
     "metadata": {},
     "output_type": "execute_result"
    }
   ],
   "source": [
    "df.columns"
   ]
  },
  {
   "cell_type": "code",
   "execution_count": 4,
   "metadata": {},
   "outputs": [],
   "source": [
    "unq_dpt = df[\"department\"].drop_duplicates()"
   ]
  },
  {
   "cell_type": "code",
   "execution_count": 5,
   "metadata": {},
   "outputs": [],
   "source": [
    "def getYear(s):\n",
    "    _ = re.search(r'[0-9]{4}', s)\n",
    "    if(_ is not None):\n",
    "        return _[0]\n",
    "    return np.nan\n",
    "\n",
    "\n",
    "def getDept(s):\n",
    "    _ = re.sub(r\"[0-9]{4}\", \"\", s)\n",
    "    _ = _.replace(\"-\", \" \").strip()\n",
    "    if (_.find(\"nan\") != -1):\n",
    "        return np.nan\n",
    "    return _\n"
   ]
  },
  {
   "cell_type": "code",
   "execution_count": 6,
   "metadata": {},
   "outputs": [],
   "source": [
    "replace_dept = {}\n",
    "for x in unq_dpt:\n",
    "    if x == \"NODEPT\":\n",
    "        replace_dept[x] = {\"year\": np.nan, \"branch\": np.nan}\n",
    "        continue\n",
    "    replace_dept[x] = {\"year\": getYear(str(x)), \"branch\": getDept(str(x))}\n",
    "# print(replace_dept)"
   ]
  },
  {
   "cell_type": "code",
   "execution_count": 7,
   "metadata": {},
   "outputs": [],
   "source": [
    "# Create two cols department and batch from dept column\n",
    "\n",
    "depts = []\n",
    "years = []\n",
    "\n",
    "for i in df[\"department\"]:\n",
    "    try:\n",
    "        depts.append(replace_dept[i][\"branch\"])\n",
    "        years.append(replace_dept[i][\"year\"])\n",
    "    except KeyError:\n",
    "        depts.append(None)\n",
    "        years.append(\"\")\n",
    "\n",
    "df[\"department\"] = depts\n",
    "df[\"batch\"] = years\n"
   ]
  },
  {
   "cell_type": "code",
   "execution_count": 8,
   "metadata": {},
   "outputs": [],
   "source": [
    "df.to_csv(\"outputs/clean2_bookIssueCompiled.csv\", index=False)"
   ]
  },
  {
   "cell_type": "code",
   "execution_count": 9,
   "metadata": {},
   "outputs": [],
   "source": [
    "# Extracting book issue details \n",
    "bk_issue = df[[\"adm_no\", \"acc_no\", \"title\", \"issue_date\"]]\n",
    "bk_issue.to_csv(\"outputs/clean2_bookIssue.csv\", index=False)"
   ]
  },
  {
   "cell_type": "code",
   "execution_count": 10,
   "metadata": {},
   "outputs": [],
   "source": [
    "# Extracting lib users from book issue\n",
    "lib_user = df[[\"adm_no\", \"department\", \"batch\"]]\n",
    "lib_user = lib_user.rename(columns={\"adm_no\": \"id\"})\n",
    "lib_user.columns\n",
    "# drop duplicates\n",
    "\n",
    "lib_user = lib_user.drop_duplicates(subset=['id'])\n",
    "\n",
    "lib_user.to_csv(\"outputs/clean2_libUsersBookIssue.csv\", index = False)"
   ]
  },
  {
   "cell_type": "code",
   "execution_count": null,
   "metadata": {},
   "outputs": [],
   "source": []
  },
  {
   "cell_type": "code",
   "execution_count": null,
   "metadata": {},
   "outputs": [],
   "source": []
  }
 ],
 "metadata": {
  "kernelspec": {
   "display_name": "Python 3.10.4 64-bit",
   "language": "python",
   "name": "python3"
  },
  "language_info": {
   "codemirror_mode": {
    "name": "ipython",
    "version": 3
   },
   "file_extension": ".py",
   "mimetype": "text/x-python",
   "name": "python",
   "nbconvert_exporter": "python",
   "pygments_lexer": "ipython3",
   "version": "3.10.4"
  },
  "orig_nbformat": 4,
  "vscode": {
   "interpreter": {
    "hash": "916dbcbb3f70747c44a77c7bcd40155683ae19c65e1c03b4aa3499c5328201f1"
   }
  }
 },
 "nbformat": 4,
 "nbformat_minor": 2
}
