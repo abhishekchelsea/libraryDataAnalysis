{
 "cells": [
  {
   "cell_type": "markdown",
   "metadata": {},
   "source": [
    "## Notes\n",
    "- input: bookIssue\n",
    "- output: clean1_bookIssue.csv"
   ]
  },
  {
   "cell_type": "code",
   "execution_count": 1,
   "metadata": {},
   "outputs": [],
   "source": [
    "import re\n",
    "import csv \n",
    "import pandas as pd"
   ]
  },
  {
   "cell_type": "code",
   "execution_count": 2,
   "metadata": {},
   "outputs": [],
   "source": [
    "ip = open(\"inputs/bookIssueDetails.csv\")\n",
    "reader = csv.DictReader(ip)"
   ]
  },
  {
   "cell_type": "code",
   "execution_count": 3,
   "metadata": {},
   "outputs": [
    {
     "data": {
      "text/plain": [
       "43"
      ]
     },
     "execution_count": 3,
     "metadata": {},
     "output_type": "execute_result"
    }
   ],
   "source": [
    "op = open(\"outputs/clean1_bookIssue.csv\", 'w')\n",
    "writer= csv.DictWriter(op, fieldnames=[\"adm_no\", \"acc_no\", \"title\", \"issue_date\", \"department\"])\n",
    "writer.writeheader()"
   ]
  },
  {
   "cell_type": "code",
   "execution_count": 4,
   "metadata": {},
   "outputs": [],
   "source": [
    "dept = \"NODEPT\"\n",
    "lst = [{dept: []}]\n",
    "for row in reader:\n",
    "    if (row[\"Title\"] != \"\"):\n",
    "        lst[-1][dept].append(row)\n",
    "    else:\n",
    "        dept = row[\"Acc No.\"]\n",
    "        assert dept != None\n",
    "        lst.append({dept: []})\n",
    "# print(lst)"
   ]
  },
  {
   "cell_type": "code",
   "execution_count": 5,
   "metadata": {},
   "outputs": [],
   "source": [
    "for i in lst:\n",
    "    for key, val in i.items():\n",
    "        for j in val:\n",
    "            writer.writerow(\n",
    "                {\n",
    "                    \"adm_no\": j[\"Borrower No.\"], \n",
    "                    \"acc_no\": j[\"Acc No.\"],\n",
    "                    \"title\": j[\"Title\"],\n",
    "                    \"issue_date\": j[\"Issue Date\"],\n",
    "                    \"department\": key\n",
    "                })\n"
   ]
  },
  {
   "cell_type": "code",
   "execution_count": 6,
   "metadata": {},
   "outputs": [],
   "source": [
    "ip.close()\n",
    "op.close()"
   ]
  }
 ],
 "metadata": {
  "kernelspec": {
   "display_name": "Python 3.10.4 64-bit",
   "language": "python",
   "name": "python3"
  },
  "language_info": {
   "codemirror_mode": {
    "name": "ipython",
    "version": 3
   },
   "file_extension": ".py",
   "mimetype": "text/x-python",
   "name": "python",
   "nbconvert_exporter": "python",
   "pygments_lexer": "ipython3",
   "version": "3.10.4"
  },
  "orig_nbformat": 4,
  "vscode": {
   "interpreter": {
    "hash": "916dbcbb3f70747c44a77c7bcd40155683ae19c65e1c03b4aa3499c5328201f1"
   }
  }
 },
 "nbformat": 4,
 "nbformat_minor": 2
}
