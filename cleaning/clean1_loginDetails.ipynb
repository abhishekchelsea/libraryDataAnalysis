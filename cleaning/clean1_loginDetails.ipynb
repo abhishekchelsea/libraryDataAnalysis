{
 "cells": [
  {
   "cell_type": "markdown",
   "metadata": {},
   "source": [
    "## Cleaning objectives\n",
    "- Dates that appear in Department fields are removed and inserted in a separate column"
   ]
  },
  {
   "cell_type": "code",
   "execution_count": 13,
   "metadata": {},
   "outputs": [],
   "source": [
    "import csv\n",
    "import re"
   ]
  },
  {
   "cell_type": "code",
   "execution_count": 14,
   "metadata": {},
   "outputs": [
    {
     "data": {
      "text/plain": [
       "53"
      ]
     },
     "execution_count": 14,
     "metadata": {},
     "output_type": "execute_result"
    }
   ],
   "source": [
    "# create output file \n",
    "out = open(\"outputs/clean1_loginDetails.csv\", \"w\")\n",
    "writer = csv.DictWriter(out, fieldnames=[\"adm_no\", \"sex\",\"dept\", \"borrower_type\", \"entry_date\",\"entry_time\"])\n",
    "writer.writeheader()"
   ]
  },
  {
   "cell_type": "code",
   "execution_count": 15,
   "metadata": {},
   "outputs": [],
   "source": [
    "lst = []"
   ]
  },
  {
   "cell_type": "code",
   "execution_count": 16,
   "metadata": {},
   "outputs": [],
   "source": [
    "# Read csv file and fill up lst\n",
    "reader = csv.DictReader(open(\"inputs/loginDetails.csv\"))\n",
    "date = \"\"\n",
    "for row in reader:\n",
    "    if re.match(r'[0-9]{2}/[0-9]{2}/[0-9]{4}',row[\"Department\"]) != None:\n",
    "        lst.append({row[\"Department\"]:[]})\n",
    "        date = row[\"Department\"]\n",
    "    else:\n",
    "        if row[\"Borrower No.\"] != \"\":\n",
    "            (lst[-1][date]).append(row)"
   ]
  },
  {
   "cell_type": "code",
   "execution_count": 17,
   "metadata": {},
   "outputs": [],
   "source": [
    "# Iterate through lst to create new csv file. \n",
    "for i in lst:\n",
    "    for key, val in i.items():\n",
    "        for j in val:\n",
    "            writer.writerow({\n",
    "                \"adm_no\": j[\"Borrower No.\"],\n",
    "                \"sex\": j[\"Sex\"],\n",
    "                \"dept\": j[\"Department\"],\n",
    "                \"borrower_type\": j[\"Borrower Type\"],\n",
    "                \"entry_date\": key,\n",
    "                \"entry_time\": j[\"EntryTime\"]\n",
    "                })"
   ]
  },
  {
   "cell_type": "code",
   "execution_count": 18,
   "metadata": {},
   "outputs": [],
   "source": [
    "# closing output file\n",
    "out.close()"
   ]
  }
 ],
 "metadata": {
  "interpreter": {
   "hash": "916dbcbb3f70747c44a77c7bcd40155683ae19c65e1c03b4aa3499c5328201f1"
  },
  "kernelspec": {
   "display_name": "Python 3.10.4 64-bit",
   "language": "python",
   "name": "python3"
  },
  "language_info": {
   "codemirror_mode": {
    "name": "ipython",
    "version": 3
   },
   "file_extension": ".py",
   "mimetype": "text/x-python",
   "name": "python",
   "nbconvert_exporter": "python",
   "pygments_lexer": "ipython3",
   "version": "3.10.4"
  },
  "orig_nbformat": 4
 },
 "nbformat": 4,
 "nbformat_minor": 2
}
