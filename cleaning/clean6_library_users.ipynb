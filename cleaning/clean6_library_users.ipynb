{
 "cells": [
  {
   "cell_type": "markdown",
   "metadata": {},
   "source": [
    "## Notes\n",
    "-- Adding missing batch details."
   ]
  },
  {
   "cell_type": "code",
   "execution_count": 1,
   "metadata": {},
   "outputs": [],
   "source": [
    "import csv"
   ]
  },
  {
   "cell_type": "code",
   "execution_count": 2,
   "metadata": {},
   "outputs": [
    {
     "data": {
      "text/plain": [
       "63"
      ]
     },
     "execution_count": 2,
     "metadata": {},
     "output_type": "execute_result"
    }
   ],
   "source": [
    "ip = open(\"outputs/clean5_library_users.csv\")\n",
    "op = open(\"outputs/clean6_library_users.csv\", \"w\")\n",
    "reader = csv.DictReader(ip)\n",
    "fieldnames = [\"id\", \"sex\", \"type\", \"department\",\n",
    "              \"batch\", \"checked_in(Y/N)\", \"book_issued(Y/N)\"]\n",
    "writer = csv.DictWriter(op, fieldnames=fieldnames)\n",
    "writer.writeheader()\n",
    "\n"
   ]
  },
  {
   "cell_type": "code",
   "execution_count": 3,
   "metadata": {},
   "outputs": [],
   "source": [
    "dept_names =  ['ME', 'EC', 'IT', 'CS', 'EEE','EE', 'CE']"
   ]
  },
  {
   "cell_type": "code",
   "execution_count": 4,
   "metadata": {},
   "outputs": [
    {
     "name": "stdout",
     "output_type": "stream",
     "text": [
      "538\n"
     ]
    }
   ],
   "source": [
    "count = 0\n",
    "\n",
    "for row in reader:\n",
    "    if (row[\"type\"] == \"student\" and row[\"batch\"] == \"nan\"):\n",
    "        if (row[\"id\"][2:4] in dept_names):\n",
    "            row[\"batch\"] = \"20\"+row[\"id\"][:2]\n",
    "    if row[\"department\"] == \"CS\":\n",
    "        count += 1\n",
    "    writer.writerow(row)\n",
    "print(count)\n"
   ]
  },
  {
   "cell_type": "code",
   "execution_count": 5,
   "metadata": {},
   "outputs": [],
   "source": [
    "ip.close()\n",
    "op.close()"
   ]
  }
 ],
 "metadata": {
  "kernelspec": {
   "display_name": "Python 3.10.4 64-bit",
   "language": "python",
   "name": "python3"
  },
  "language_info": {
   "codemirror_mode": {
    "name": "ipython",
    "version": 3
   },
   "file_extension": ".py",
   "mimetype": "text/x-python",
   "name": "python",
   "nbconvert_exporter": "python",
   "pygments_lexer": "ipython3",
   "version": "3.10.4"
  },
  "orig_nbformat": 4,
  "vscode": {
   "interpreter": {
    "hash": "916dbcbb3f70747c44a77c7bcd40155683ae19c65e1c03b4aa3499c5328201f1"
   }
  }
 },
 "nbformat": 4,
 "nbformat_minor": 2
}
